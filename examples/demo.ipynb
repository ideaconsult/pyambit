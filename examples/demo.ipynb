{
 "cells": [
  {
   "cell_type": "code",
   "execution_count": 1,
   "metadata": {},
   "outputs": [],
   "source": [
    "import requests\n",
    "from pyambit.datamodel import Substances, Study \n",
    "import nexusformat.nexus.tree as nx\n",
    "import os.path\n",
    "import tempfile\n",
    "# to_nexus is not added without this import\n",
    "from pyambit import nexus_writer\n",
    "import json\n",
    "from IPython.display import display, HTML"
   ]
  },
  {
   "cell_type": "code",
   "execution_count": 2,
   "metadata": {},
   "outputs": [],
   "source": [
    "def query(url = \"https://apps.ideaconsult.net/gracious/substance/\" ,params = {\"max\" : 1}):\n",
    "    substances = None\n",
    "    headers = {'Accept': 'application/json'}\n",
    "    result = requests.get(url,params=params,headers=headers)\n",
    "    if result.status_code==200:\n",
    "        response =  result.json()\n",
    "        substances = Substances.model_construct(**response)\n",
    "        for substance in substances.substance:\n",
    "            url_study = \"{}/study?max=10000\".format(substance.URI)\n",
    "            study = requests.get(url_study,headers=headers)\n",
    "            if study.status_code==200:\n",
    "                response_study = study.json()\n",
    "                substance.study = Study.model_construct(**response_study).study\n",
    "            #break\n",
    "\n",
    "    return substances\n",
    "\n",
    "def write_studies_nexus(substances, single_file=True):\n",
    "    if single_file:\n",
    "        nxroot = nx.NXroot()\n",
    "        substances.to_nexus(nxroot)\n",
    "        file = os.path.join(tempfile.gettempdir(), \"remote.nxs\")\n",
    "        print(file)\n",
    "        nxroot.save(file, mode=\"w\")\n",
    "    else:        \n",
    "        for substance in substances.substance:\n",
    "            for study in substance.study:\n",
    "                file = os.path.join(tempfile.gettempdir(), \"study_{}.nxs\".format(study.uuid))\n",
    "                print(file)\n",
    "                nxroot = nx.NXroot()\n",
    "                try:\n",
    "                    study.to_nexus(nxroot)\n",
    "                    nxroot.save(file, mode=\"w\")\n",
    "                except Exception as err:\n",
    "                    #print(\"error\",file,str(err))\n",
    "                    print(file)"
   ]
  },
  {
   "cell_type": "code",
   "execution_count": 3,
   "metadata": {},
   "outputs": [],
   "source": [
    "import traceback"
   ]
  },
  {
   "cell_type": "code",
   "execution_count": 5,
   "metadata": {},
   "outputs": [
    {
     "name": "stdout",
     "output_type": "stream",
     "text": [
      "C:\\Users\\jelia\\AppData\\Local\\Temp\\remote.json\n",
      "warning>  Float value REPLICATE:nan\n"
     ]
    },
    {
     "name": "stderr",
     "output_type": "stream",
     "text": [
      "Traceback (most recent call last):\n",
      "  File \"C:\\Users\\jelia\\AppData\\Local\\Temp\\ipykernel_13992\\3684429070.py\", line 19, in <module>\n",
      "    effectarrays_only, df = pa.convert_effectrecords2array()\n",
      "                            ^^^^^^^^^^^^^^^^^^^^^^^^^^^^^^^^\n",
      "  File \"D:\\nina\\src\\pyambit\\src\\pyambit\\datamodel.py\", line 1124, in convert_effectrecords2array\n",
      "    earray = EffectArray(\n",
      "             ^^^^^^^^^^^^\n",
      "  File \"d:\\nina\\src\\pyambit\\.venv\\Lib\\site-packages\\pydantic\\main.py\", line 193, in __init__\n",
      "    self.__pydantic_validator__.validate_python(data, self_instance=self)\n",
      "pydantic_core._pydantic_core.ValidationError: 1 validation error for EffectArray\n",
      "conditions\n",
      "  Value error, cannot convert float NaN to integer [type=value_error, input_value={'END_DATE': '2020-12-15'...ART_DATE': '2020-12-15'}, input_type=dict]\n",
      "    For further information visit https://errors.pydantic.dev/2.8/v/value_error\n"
     ]
    }
   ],
   "source": [
    "url = \"https://apps.ideaconsult.net/gracious/substance/\"\n",
    "#url = \"http://localhost:9090/ambit2/substance/\"\n",
    "#url = \"http://localhost:9090/ambit2/substance/POLY-e02442cc-8f7c-3a71-82cf-7df5888a4bfa\"\n",
    "#url = \"http://localhost:9090/ambit2/substance/POLY-25d13fa6-c18b-35c8-b0f6-7325f5f3e505\"\n",
    "try:\n",
    "    substances = query(url=url,params = {\"max\" : 1})   \n",
    "    _json = substances.model_dump(exclude_none=True)\n",
    "    new_substances = Substances.model_construct(**_json)\n",
    "    #test roundtrip\n",
    "    assert substances == new_substances\n",
    "\n",
    "    file = os.path.join(tempfile.gettempdir(), \"remote.json\")\n",
    "    print(file)\n",
    "    with open(file, 'w', encoding='utf-8') as file:\n",
    "        file.write(substances.model_dump_json(exclude_none=True))\n",
    "    \n",
    "    for s in substances.substance:\n",
    "        for pa in s.study:\n",
    "            effectarrays_only, df = pa.convert_effectrecords2array()\n",
    "            display(df.dropna(axis=1,how=\"all\"))\n",
    "            print(effectarrays_only)\n",
    "            #break\n",
    "    #write_studies_nexus(substances, single_file=False)\n",
    "except Exception as x:\n",
    "    traceback.print_exc()\n"
   ]
  },
  {
   "cell_type": "code",
   "execution_count": null,
   "metadata": {},
   "outputs": [],
   "source": []
  }
 ],
 "metadata": {
  "kernelspec": {
   "display_name": ".venv",
   "language": "python",
   "name": "python3"
  },
  "language_info": {
   "codemirror_mode": {
    "name": "ipython",
    "version": 3
   },
   "file_extension": ".py",
   "mimetype": "text/x-python",
   "name": "python",
   "nbconvert_exporter": "python",
   "pygments_lexer": "ipython3",
   "version": "3.11.5"
  }
 },
 "nbformat": 4,
 "nbformat_minor": 2
}
