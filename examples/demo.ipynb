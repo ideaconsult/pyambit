{
 "cells": [
  {
   "cell_type": "code",
   "execution_count": null,
   "metadata": {},
   "outputs": [],
   "source": [
    "import requests\n",
    "from pyambit.datamodel import Substances, Study \n",
    "import nexusformat.nexus.tree as nx\n",
    "import os.path\n",
    "import tempfile\n",
    "# to_nexus is not added without this import\n",
    "from pyambit import nexus_writer\n",
    "import json"
   ]
  },
  {
   "cell_type": "code",
   "execution_count": null,
   "metadata": {},
   "outputs": [],
   "source": [
    "def query(url = \"https://apps.ideaconsult.net/gracious/substance/\" ,params = {\"max\" : 1}):\n",
    "    substances = None\n",
    "    headers = {'Accept': 'application/json'}\n",
    "    result = requests.get(url,params=params,headers=headers)\n",
    "    if result.status_code==200:\n",
    "        response =  result.json()\n",
    "        substances = Substances.model_construct(**response)\n",
    "        for substance in substances.substance:\n",
    "            url_study = \"{}/study\".format(substance.URI)\n",
    "            study = requests.get(url_study,headers=headers)\n",
    "            if study.status_code==200:\n",
    "                response_study = study.json()\n",
    "                substance.study = Study.model_construct(**response_study).study\n",
    "\n",
    "    return substances\n",
    "\n",
    "def write_studies_nexus(substances):\n",
    "    for substance in substances.substance:\n",
    "        for study in substance.study:\n",
    "            file = os.path.join(tempfile.gettempdir(), \"study_{}.nxs\".format(study.uuid))\n",
    "            nxroot = nx.NXroot()\n",
    "            try:\n",
    "                study.to_nexus(nxroot)\n",
    "                nxroot.save(file, mode=\"w\")\n",
    "            except Exception as err:\n",
    "                #print(\"error\",file,str(err))\n",
    "                print(file)"
   ]
  },
  {
   "cell_type": "code",
   "execution_count": null,
   "metadata": {},
   "outputs": [],
   "source": [
    "\n",
    "try:\n",
    "    substances = query(params = {\"max\" : 10})   \n",
    "    _json = substances.model_dump(exclude_none=True)\n",
    "    new_substances = Substances.model_construct(**_json)\n",
    "    #test roundtrip\n",
    "    assert substances == new_substances\n",
    "\n",
    "    file = os.path.join(tempfile.gettempdir(), \"remote.json\")\n",
    "    print(file)\n",
    "    with open(file, 'w', encoding='utf-8') as file:\n",
    "        file.write(substances.model_dump_json(exclude_none=True))\n",
    "    write_studies_nexus(substances)\n",
    "except Exception as x:\n",
    "    print(x)"
   ]
  },
  {
   "cell_type": "code",
   "execution_count": null,
   "metadata": {},
   "outputs": [],
   "source": []
  }
 ],
 "metadata": {
  "kernelspec": {
   "display_name": ".venv",
   "language": "python",
   "name": "python3"
  },
  "language_info": {
   "name": "python",
   "version": "3.12.5"
  }
 },
 "nbformat": 4,
 "nbformat_minor": 2
}
